{
 "cells": [
  {
   "cell_type": "code",
   "execution_count": null,
   "metadata": {},
   "outputs": [],
   "source": [
    "import os\n",
    "import matplotlib.pyplot as plt\n",
    "from mpl_toolkits import mplot3d\n",
    "import matplotlib as mpl\n",
    "\n",
    "COLOR = 'white'\n",
    "mpl.rcParams['text.color'] = COLOR\n",
    "mpl.rcParams['axes.labelcolor'] = COLOR\n",
    "mpl.rcParams['xtick.color'] = COLOR\n",
    "mpl.rcParams['ytick.color'] = COLOR\n",
    "\n",
    "HUTUB_ROOT_DIR = \"/mnt/c/users/evanb/The Cooper Union for the Advancement of Science and Art/ME-Project-6-HRTF-Estimation - General/HUTUB\"\n",
    "\n",
    "HRIR_DIR = os.path.join(HUTUB_ROOT_DIR, \"HRIRs\")\n",
    "\n",
    "test_file = \"pp1_HRIRs_measured.sofa\"\n",
    "test_file_path = os.path.join(HRIR_DIR, test_file)\n",
    "\n",
    "def plot_coordinates(coords, title):\n",
    "    x0 = coords\n",
    "    n0 = coords\n",
    "    fig = plt.figure(figsize=(15, 15))\n",
    "    ax = fig.add_subplot(111, projection='3d')\n",
    "    q = ax.quiver(x0[:, 0], x0[:, 1], x0[:, 2], n0[:, 0],\n",
    "                  n0[:, 1], n0[:, 2], length=0.1)\n",
    "    plt.xlabel('x (m)')\n",
    "    plt.ylabel('y (m)')\n",
    "    plt.title(title)\n",
    "    #plt.savefig(\"{}.png\".format(title), format='png')\n",
    "    plt.show()\n",
    "\n",
    "    return q\n",
    "\n",
    "def plot_emitter_response(hrir, t, measurement, emitter):\n",
    "    plt.figure(figsize=(15, 5))\n",
    "    for receiver in np.arange(hrir.R):\n",
    "        plt.plot(t, hrir.IR[measurement, receiver, :])\n",
    "        legend.append('Receiver {0}'.format(receiver))\n",
    "    plt.title('HRIR at M={0} for emitter {1}'.format(measurement, emitter))\n",
    "    plt.legend(legend)\n",
    "    plt.xlabel('$t$ in s')\n",
    "    plt.ylabel(r'$h(t)$')\n",
    "    plt.grid()\n",
    "\n",
    "    plt.show()\n"
   ]
  },
  {
   "cell_type": "code",
   "execution_count": null,
   "metadata": {
    "scrolled": true
   },
   "outputs": [],
   "source": [
    "import os\n",
    "from utils.CustomSOFA import SOFA\n",
    "HUTUB_ROOT_DIR = \"/mnt/c/users/evanb/The Cooper Union for the Advancement of Science and Art/ME-Project-6-HRTF-Estimation - General/HUTUB\"\n",
    "HRIR_DIR = os.path.join(HUTUB_ROOT_DIR, \"HRIRs\")\n",
    "test_file = \"pp1_HRIRs_measured.sofa\"\n",
    "test_file_path = os.path.join(HRIR_DIR, test_file)\n",
    "import IPython\n",
    "import pysofaconventions\n",
    "import matplotlib.pyplot as plt\n",
    "# import soundfile as sf\n",
    "import numpy as np\n",
    "from acousticslib.plots import *\n",
    "from acousticslib.domain_conversions import *\n",
    "\n",
    "def playback(audiofile_path):\n",
    "    IPython.display.Audio(audiofile_path)\n",
    "\n",
    "def read_sofa(sofa_path):\n",
    "    return SOFA(pysofaconventions.SOFAFile(sofa_path,'r'))\n",
    "\n",
    "hrir = read_sofa(test_file_path)\n"
   ]
  },
  {
   "cell_type": "code",
   "execution_count": null,
   "metadata": {
    "scrolled": true
   },
   "outputs": [],
   "source": [
    "hw4_path = \"/mnt/c/users/evanb/documents/2020spring/soundspace/hw4/HW4_spect.wav\"\n",
    "\n",
    "from scipy.io import wavfile\n",
    "sampling_frequency, x = wavfile.read(hw4_path)\n",
    "x = x/32767\n",
    "dt = 1/sampling_frequency\n",
    "num_bins = 6\n",
    "plot_spectrogram(x, dt, num_bins = 500, percent_overlap = 70, convert_to_dB=True)\n",
    "# plot_spectrogram(x, dt, record_length = 401, percent_overlap = 25, convert_to_dB=True)\n"
   ]
  },
  {
   "cell_type": "code",
   "execution_count": null,
   "metadata": {},
   "outputs": [],
   "source": [
    "from acousticslib.gxx_average import gxx_average"
   ]
  },
  {
   "cell_type": "code",
   "execution_count": null,
   "metadata": {},
   "outputs": [],
   "source": [
    "rms_avged_gxx, linear_avged_gxx, time_avged_gxx, f_range = gxx_average(x, dt, 16)"
   ]
  },
  {
   "cell_type": "code",
   "execution_count": null,
   "metadata": {},
   "outputs": [],
   "source": [
    "plot_gxx(f_range, time_avged_gxx)\n",
    "plot_gxx(f_range, linear_avged_gxx)\n",
    "plot_gxx(f_range, rms_avged_gxx)"
   ]
  },
  {
   "cell_type": "code",
   "execution_count": null,
   "metadata": {},
   "outputs": [],
   "source": [
    "# plot Data.IR at M=5 for E=0\n",
    "measurement = 5\n",
    "emitter = 0\n",
    "legend = []\n",
    "\n",
    "t = np.arange(0,hrir.N)/hrir.SamplingRate\n",
    "\n",
    "dt = 1/hrir.SamplingRate\n",
    "x = hrir.IR[measurement, :, :]\n",
    "\n",
    "bins = 15\n",
    "record_lengths = range(2, 42, 4)\n",
    "X, f_range = ts2ls(x, dt)\n",
    "for record_length in record_lengths:\n",
    "    print(record_length)\n",
    "    plot_spectrogram(x[0, :], dt,record_length = record_length, percent_overlap = 0, convert_to_dB=True)"
   ]
  },
  {
   "cell_type": "code",
   "execution_count": null,
   "metadata": {
    "scrolled": true
   },
   "outputs": [],
   "source": [
    "plot_time_series(t, hrir.IR[measurement, :, :], title='HRIR at M={0} for emitter {1}'.format(measurement, emitter))\n",
    "plot_linear_spectrum_amplitude(f_range, X)\n",
    "plot_coordinates(SOFA.sph2cart(hrir.Source[\"Position\"]), \"Source positions\")\n",
    "plot_phase(f_range, X)"
   ]
  },
  {
   "cell_type": "code",
   "execution_count": null,
   "metadata": {},
   "outputs": [],
   "source": []
  },
  {
   "cell_type": "code",
   "execution_count": 1,
   "metadata": {},
   "outputs": [
    {
     "name": "stderr",
     "output_type": "stream",
     "text": [
      "/mnt/c/Users/evanb/documents/2020fall/seniorprojects/repo/acousticslib/generate_excitation.py:60: RuntimeWarning: divide by zero encountered in true_divide\n",
      "  X = np.sqrt(np.divide(1, np.abs(shifted_frequency_range)))\n",
      "/mnt/c/Users/evanb/documents/2020fall/seniorprojects/repo/acousticslib/generate_excitation.py:64: ComplexWarning: Casting complex values to real discards the imaginary part\n",
      "  X[:len(phase_noise)] = X[:len(phase_noise)]*np.exp(1j*phase_noise)\n",
      "/mnt/c/Users/evanb/documents/2020fall/seniorprojects/repo/acousticslib/generate_excitation.py:65: ComplexWarning: Casting complex values to real discards the imaginary part\n",
      "  X[ceil(pulse_length/2 + 1) - 1: pulse_length - ((pulse_length % 2) == 0)] = np.multiply(X[ ceil(pulse_length/2 + 1) - 1 : pulse_length - ((pulse_length % 2) == 0)], np.conj(np.exp(1j*np.flip(phase_noise))))\n",
      "/home/bubsy/.local/lib/python3.8/site-packages/numpy/core/_asarray.py:83: ComplexWarning: Casting complex values to real discards the imaginary part\n",
      "  return array(a, dtype, copy=False, order=order)\n"
     ]
    },
    {
     "data": {
      "text/plain": [
       "[<matplotlib.lines.Line2D at 0x7fdb5fd29ac0>]"
      ]
     },
     "execution_count": 1,
     "metadata": {},
     "output_type": "execute_result"
    },
    {
     "data": {
      "image/png": "[encoded data removed]",
      "text/plain": [
       "<Figure size 432x288 with 1 Axes>"
      ]
     },
     "metadata": {
      "needs_background": "light"
     },
     "output_type": "display_data"
    }
   ],
   "source": [
    "import acousticslib as ac\n",
    "from acousticslib.plots import *\n",
    "import matplotlib.pyplot as plt\n",
    "T = 1\n",
    "Tp = 0.9\n",
    "fs = 12000\n",
    "f = 2000\n",
    "dt = 1/fs\n",
    "\n",
    "x, t = ac.generate_excitation(T*fs, Tp, 2, \"pink_noise\", fs, sweep_freq_low = 50, sweep_freq_high = 5000)\n",
    "plt.plot(t, x[0, :])\n"
   ]
  },
  {
   "cell_type": "code",
   "execution_count": null,
   "metadata": {},
   "outputs": [],
   "source": []
  },
  {
   "cell_type": "code",
   "execution_count": null,
   "metadata": {},
   "outputs": [],
   "source": [
    "t"
   ]
  },
  {
   "cell_type": "code",
   "execution_count": null,
   "metadata": {},
   "outputs": [],
   "source": []
  },
  {
   "cell_type": "code",
   "execution_count": null,
   "metadata": {},
   "outputs": [],
   "source": [
    "from acousticslib.hann_fades import hann_fades"
   ]
  },
  {
   "cell_type": "code",
   "execution_count": null,
   "metadata": {},
   "outputs": [],
   "source": []
  }
 ],
 "metadata": {
  "kernelspec": {
   "display_name": "Python 3",
   "language": "python",
   "name": "python3"
  },
  "language_info": {
   "codemirror_mode": {
    "name": "ipython",
    "version": 3
   },
   "file_extension": ".py",
   "mimetype": "text/x-python",
   "name": "python",
   "nbconvert_exporter": "python",
   "pygments_lexer": "ipython3",
   "version": "3.8.5"
  }
 },
 "nbformat": 4,
 "nbformat_minor": 4
}
